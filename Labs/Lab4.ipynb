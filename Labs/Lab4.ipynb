{
 "cells": [
  {
   "cell_type": "markdown",
   "metadata": {},
   "source": [
    "# Lab4: Semántica léxica (Lexical Semantic)"
   ]
  },
  {
   "cell_type": "markdown",
   "metadata": {},
   "source": [
    "#### Accediendo a WordNet"
   ]
  },
  {
   "cell_type": "code",
   "execution_count": null,
   "metadata": {},
   "outputs": [],
   "source": [
    "from nltk.book import *\n",
    "from nltk.corpus import wordnet as wn"
   ]
  },
  {
   "cell_type": "code",
   "execution_count": 2,
   "metadata": {},
   "outputs": [
    {
     "data": {
      "text/plain": [
       "[Synset('dog.n.01'),\n",
       " Synset('frump.n.01'),\n",
       " Synset('dog.n.03'),\n",
       " Synset('cad.n.01'),\n",
       " Synset('frank.n.02'),\n",
       " Synset('pawl.n.01'),\n",
       " Synset('andiron.n.01'),\n",
       " Synset('chase.v.01')]"
      ]
     },
     "execution_count": 2,
     "metadata": {},
     "output_type": "execute_result"
    }
   ],
   "source": [
    "wn.synsets('dog')"
   ]
  },
  {
   "cell_type": "code",
   "execution_count": 3,
   "metadata": {},
   "outputs": [
    {
     "data": {
      "text/plain": [
       "[Synset('chase.v.01')]"
      ]
     },
     "execution_count": 3,
     "metadata": {},
     "output_type": "execute_result"
    }
   ],
   "source": [
    "wn.synsets('dog', pos=wn.VERB)"
   ]
  },
  {
   "cell_type": "code",
   "execution_count": 4,
   "metadata": {},
   "outputs": [
    {
     "data": {
      "text/plain": [
       "Synset('dog.n.01')"
      ]
     },
     "execution_count": 4,
     "metadata": {},
     "output_type": "execute_result"
    }
   ],
   "source": [
    "wn.synset('dog.n.01')"
   ]
  },
  {
   "cell_type": "code",
   "execution_count": 5,
   "metadata": {},
   "outputs": [
    {
     "data": {
      "text/plain": [
       "Synset('frump.n.01')"
      ]
     },
     "execution_count": 5,
     "metadata": {},
     "output_type": "execute_result"
    }
   ],
   "source": [
    "wn.synset('dog.n.02')"
   ]
  },
  {
   "cell_type": "code",
   "execution_count": 6,
   "metadata": {},
   "outputs": [
    {
     "data": {
      "text/plain": [
       "Synset('frump.n.01')"
      ]
     },
     "execution_count": 6,
     "metadata": {},
     "output_type": "execute_result"
    }
   ],
   "source": [
    "wn.synset('frump.n.01')"
   ]
  },
  {
   "cell_type": "code",
   "execution_count": 7,
   "metadata": {},
   "outputs": [
    {
     "data": {
      "text/plain": [
       "'a member of the genus Canis (probably descended from the common wolf) that has been domesticated by man since prehistoric times; occurs in many breeds'"
      ]
     },
     "execution_count": 7,
     "metadata": {},
     "output_type": "execute_result"
    }
   ],
   "source": [
    "wn.synset('dog.n.01').definition()"
   ]
  },
  {
   "cell_type": "code",
   "execution_count": 8,
   "metadata": {},
   "outputs": [
    {
     "data": {
      "text/plain": [
       "'a dull unattractive unpleasant girl or woman'"
      ]
     },
     "execution_count": 8,
     "metadata": {},
     "output_type": "execute_result"
    }
   ],
   "source": [
    "wn.synset('dog.n.02').definition()"
   ]
  },
  {
   "cell_type": "code",
   "execution_count": 9,
   "metadata": {},
   "outputs": [
    {
     "data": {
      "text/plain": [
       "[Lemma('dog.n.01.dog'),\n",
       " Lemma('dog.n.01.domestic_dog'),\n",
       " Lemma('dog.n.01.Canis_familiaris')]"
      ]
     },
     "execution_count": 9,
     "metadata": {},
     "output_type": "execute_result"
    }
   ],
   "source": [
    "wn.synset('dog.n.01').lemmas()"
   ]
  },
  {
   "cell_type": "code",
   "execution_count": 10,
   "metadata": {},
   "outputs": [
    {
     "data": {
      "text/plain": [
       "[Lemma('frump.n.01.frump'), Lemma('frump.n.01.dog')]"
      ]
     },
     "execution_count": 10,
     "metadata": {},
     "output_type": "execute_result"
    }
   ],
   "source": [
    "wn.synset('dog.n.02').lemmas()"
   ]
  },
  {
   "cell_type": "markdown",
   "metadata": {},
   "source": [
    "#### Relaciones entre palabras con WordNet"
   ]
  },
  {
   "cell_type": "code",
   "execution_count": 11,
   "metadata": {},
   "outputs": [
    {
     "data": {
      "text/plain": [
       "[Synset('canine.n.02'), Synset('domestic_animal.n.01')]"
      ]
     },
     "execution_count": 11,
     "metadata": {},
     "output_type": "execute_result"
    }
   ],
   "source": [
    "dog = wn.synset('dog.n.01')\n",
    "dog.hypernyms()"
   ]
  },
  {
   "cell_type": "code",
   "execution_count": 12,
   "metadata": {},
   "outputs": [
    {
     "data": {
      "text/plain": [
       "[Synset('basenji.n.01'),\n",
       " Synset('corgi.n.01'),\n",
       " Synset('cur.n.01'),\n",
       " Synset('dalmatian.n.02'),\n",
       " Synset('great_pyrenees.n.01'),\n",
       " Synset('griffon.n.02'),\n",
       " Synset('hunting_dog.n.01'),\n",
       " Synset('lapdog.n.01'),\n",
       " Synset('leonberg.n.01'),\n",
       " Synset('mexican_hairless.n.01'),\n",
       " Synset('newfoundland.n.01'),\n",
       " Synset('pooch.n.01'),\n",
       " Synset('poodle.n.01'),\n",
       " Synset('pug.n.01'),\n",
       " Synset('puppy.n.01'),\n",
       " Synset('spitz.n.01'),\n",
       " Synset('toy_dog.n.01'),\n",
       " Synset('working_dog.n.01')]"
      ]
     },
     "execution_count": 12,
     "metadata": {},
     "output_type": "execute_result"
    }
   ],
   "source": [
    "dog.hyponyms()"
   ]
  },
  {
   "cell_type": "code",
   "execution_count": 13,
   "metadata": {},
   "outputs": [
    {
     "data": {
      "text/plain": [
       "[Lemma('good.a.01.good')]"
      ]
     },
     "execution_count": 13,
     "metadata": {},
     "output_type": "execute_result"
    }
   ],
   "source": [
    "good = wn.synset('good.a.01')\n",
    "good.lemmas()"
   ]
  },
  {
   "cell_type": "code",
   "execution_count": 14,
   "metadata": {},
   "outputs": [
    {
     "data": {
      "text/plain": [
       "[Lemma('bad.a.01.bad')]"
      ]
     },
     "execution_count": 14,
     "metadata": {},
     "output_type": "execute_result"
    }
   ],
   "source": [
    "g0 = good.lemmas()[0]\n",
    "g0.antonyms()"
   ]
  },
  {
   "cell_type": "code",
   "execution_count": 15,
   "metadata": {},
   "outputs": [
    {
     "data": {
      "text/plain": [
       "[Synset('flag.n.07')]"
      ]
     },
     "execution_count": 15,
     "metadata": {},
     "output_type": "execute_result"
    }
   ],
   "source": [
    "dog.part_meronyms()"
   ]
  },
  {
   "cell_type": "code",
   "execution_count": 16,
   "metadata": {},
   "outputs": [
    {
     "data": {
      "text/plain": [
       "[]"
      ]
     },
     "execution_count": 16,
     "metadata": {},
     "output_type": "execute_result"
    }
   ],
   "source": [
    "dog.member_meronyms()"
   ]
  },
  {
   "cell_type": "code",
   "execution_count": 17,
   "metadata": {},
   "outputs": [
    {
     "data": {
      "text/plain": [
       "[]"
      ]
     },
     "execution_count": 17,
     "metadata": {},
     "output_type": "execute_result"
    }
   ],
   "source": [
    "dog.part_holonyms()"
   ]
  },
  {
   "cell_type": "code",
   "execution_count": 18,
   "metadata": {},
   "outputs": [
    {
     "data": {
      "text/plain": [
       "[Synset('canis.n.01'), Synset('pack.n.06')]"
      ]
     },
     "execution_count": 18,
     "metadata": {},
     "output_type": "execute_result"
    }
   ],
   "source": [
    "dog.member_holonyms()"
   ]
  },
  {
   "cell_type": "markdown",
   "metadata": {},
   "source": [
    "##### Ejercicio: imprimir las definiciones de flag.n.07, canis.n.01 y pack.n.06 y ver porque estos synsets estan realcionados de esta manera"
   ]
  },
  {
   "cell_type": "code",
   "execution_count": 19,
   "metadata": {},
   "outputs": [
    {
     "name": "stdout",
     "output_type": "stream",
     "text": [
      "a conspicuously marked or shaped tail\n",
      "type genus of the Canidae: domestic and wild dogs; wolves; jackals\n",
      "a group of hunting animals\n"
     ]
    }
   ],
   "source": [
    "print(wn.synset('flag.n.07').definition())\n",
    "print(wn.synset('canis.n.01').definition())\n",
    "print(wn.synset('pack.n.06').definition())"
   ]
  },
  {
   "cell_type": "markdown",
   "metadata": {},
   "source": [
    "**Flag** se relaciona con una cola, que es una parte del perro, por lo que es un merónimo de perro.\n",
    "**Canis** es un todo del cuál perro es parte, ya que se refiere a perros domésticos y salvajes, por lo que es un holónimo de perro.\n",
    "**Pack** también es un todo del cuál perro es parte, ya que se refiere a grupo de animales de caza, por lo que también es un holónimo de perro"
   ]
  },
  {
   "cell_type": "markdown",
   "metadata": {},
   "source": [
    "#### Desambiguación de palabras por sentido"
   ]
  },
  {
   "cell_type": "markdown",
   "metadata": {},
   "source": [
    "##### Ejercicio: ¿Cuántos sentidos sustantivos de \"banco\" hay en WordNet?"
   ]
  },
  {
   "cell_type": "markdown",
   "metadata": {},
   "source": [
    "“The bank can guarantee deposits will eventually cover future tuition costs because it invests in adjustable-rate mortgage securities.”"
   ]
  },
  {
   "cell_type": "code",
   "execution_count": 20,
   "metadata": {},
   "outputs": [
    {
     "name": "stdout",
     "output_type": "stream",
     "text": [
      "Hay un total de 10 sentidos sustantivos de \"banco\" en Wordnet\n",
      "Synset('bank.n.01') : sloping land (especially the slope beside a body of water)\n",
      "Synset('depository_financial_institution.n.01') : a financial institution that accepts deposits and channels the money into lending activities\n",
      "Synset('bank.n.03') : a long ridge or pile\n",
      "Synset('bank.n.04') : an arrangement of similar objects in a row or in tiers\n",
      "Synset('bank.n.05') : a supply or stock held in reserve for future use (especially in emergencies)\n",
      "Synset('bank.n.06') : the funds held by a gambling house or the dealer in some gambling games\n",
      "Synset('bank.n.07') : a slope in the turn of a road or track; the outside is higher than the inside in order to reduce the effects of centrifugal force\n",
      "Synset('savings_bank.n.02') : a container (usually with a slot in the top) for keeping money at home\n",
      "Synset('bank.n.09') : a building in which the business of banking transacted\n",
      "Synset('bank.n.10') : a flight maneuver; aircraft tips laterally about its longitudinal axis (especially in turning)\n"
     ]
    }
   ],
   "source": [
    "synsets_bank = wn.synsets('bank', pos=wn.NOUN)\n",
    "print(f\"Hay un total de {len(synsets_bank)} sentidos sustantivos de \\\"banco\\\" en Wordnet\")\n",
    "for synset in synsets_bank:\n",
    "    print(f\"{synset} : {synset.definition()}\")"
   ]
  },
  {
   "cell_type": "markdown",
   "metadata": {},
   "source": [
    "El sentido correcto de la palabra **banco** en la oración anterior es **depository_financial_institution.n.01**"
   ]
  },
  {
   "cell_type": "markdown",
   "metadata": {},
   "source": [
    "Ahora veamos que nos da el algoritmo de Lesk:"
   ]
  },
  {
   "cell_type": "code",
   "execution_count": 21,
   "metadata": {},
   "outputs": [
    {
     "name": "stdout",
     "output_type": "stream",
     "text": [
      "Synset('bank.n.05')\n"
     ]
    }
   ],
   "source": [
    "from nltk.wsd import lesk\n",
    "from nltk import word_tokenize\n",
    "S = \"The bank can guarantee deposits will eventually cover future tuition costs \\\n",
    "because it invests in adjustable- rate mortgage securities.\"\n",
    "S_tok = word_tokenize(S)\n",
    "print(lesk(S_tok,'bank','n'))"
   ]
  },
  {
   "cell_type": "markdown",
   "metadata": {},
   "source": [
    "El resultado producido por Lesk no fue el esperado. Hagamos algunos diagnósticos:"
   ]
  },
  {
   "cell_type": "code",
   "execution_count": 22,
   "metadata": {},
   "outputs": [
    {
     "data": {
      "text/plain": [
       "{'future', 'in'}"
      ]
     },
     "execution_count": 22,
     "metadata": {},
     "output_type": "execute_result"
    }
   ],
   "source": [
    "l = word_tokenize((wn.synset('bank.n.05').definition()))\n",
    "m = word_tokenize((wn.synset('bank.n.02').definition()))\n",
    "k = set(S_tok)\n",
    "k.intersection(l)"
   ]
  },
  {
   "cell_type": "code",
   "execution_count": 23,
   "metadata": {},
   "outputs": [
    {
     "data": {
      "text/plain": [
       "{'deposits'}"
      ]
     },
     "execution_count": 23,
     "metadata": {},
     "output_type": "execute_result"
    }
   ],
   "source": [
    "k.intersection(m)"
   ]
  },
  {
   "cell_type": "markdown",
   "metadata": {},
   "source": [
    "Analizando el [código fuente](http://www.nltk.org/_modules/nltk/wsd.html) de cómo esta implementado Lesk vemos que el algoritmo realiza una intersección entre la oración a analizar y las definiciones de los sentidos de _banco_, y da como resultado el sentido cuya intersección sea la que mayor cantidad de elementos tenga"
   ]
  },
  {
   "cell_type": "markdown",
   "metadata": {},
   "source": [
    "Por eso es que en los diagnósticos que hicimos vemos que la cantidad de elementos de la intersección con _bank.n.05_ es mayor a la cantidad de elementos de la intersección con el _bank.n.02_. Es por eso que _Lesk_ nos da un resultado erróneo para este caso"
   ]
  },
  {
   "cell_type": "markdown",
   "metadata": {},
   "source": [
    "**Cambios que sugeriría a NLTK:** sugeriría tanto para la oración como para las definiciones de los synsets remover stopwords y realizar stemming, eso como principal. Otra cosa interesante que podría aplicarse es algún algoritmo como el de Similitud de Coseno con la oración sin stopwords y stemeada con cada definición, y quedarnos con el synset que más porcentaje de similitud nos de"
   ]
  },
  {
   "cell_type": "markdown",
   "metadata": {},
   "source": [
    "##### Ejercicio: para cada ejemplo, a continuación descubra el sentido correcto de WordNet según su criterio. Puede usar la [búsqueda en línea de WordNet](http://wordnetweb.princeton.edu/perl/webwn) para navegar a través de los sentidos"
   ]
  },
  {
   "cell_type": "code",
   "execution_count": 24,
   "metadata": {},
   "outputs": [],
   "source": [
    "oracion_1 = \"I went to the bank to deposit some money.\"\n",
    "oracion_2 = \"She created a big mess of the birthday cake.\"\n",
    "oracion_3 = \"In the interest of your safety, please wear your seatbelt.\"\n",
    "oracion_4 = \"I drank some ice cold water.\""
   ]
  },
  {
   "cell_type": "code",
   "execution_count": 33,
   "metadata": {},
   "outputs": [
    {
     "name": "stdout",
     "output_type": "stream",
     "text": [
      "Resultado de Lesk = Synset('savings_bank.n.02'): a container (usually with a slot in the top) for keeping money at home\n",
      "Pero debería haber sido: Synset('depository_financial_institution.n.01'): a financial institution that accepts deposits and channels the money into lending activities\n"
     ]
    }
   ],
   "source": [
    "synset = lesk(word_tokenize(oracion_1),'bank', 'n')\n",
    "print(f\"Resultado de Lesk = {synset}: {synset.definition()}\")\n",
    "print(f\"Pero debería haber sido: {wn.synset('bank.n.02')}: {wn.synset('bank.n.02').definition()}\")"
   ]
  },
  {
   "cell_type": "code",
   "execution_count": 34,
   "metadata": {},
   "outputs": [
    {
     "name": "stdout",
     "output_type": "stream",
     "text": [
      "Resultado de Lesk = Synset('mess.n.04'): a meal eaten in a mess hall by service personnel\n",
      "Pero debería haber sido: Synset('mess.n.01'): a state of confusion and disorderliness\n"
     ]
    }
   ],
   "source": [
    "synset = lesk(word_tokenize(oracion_2),'mess', 'n')\n",
    "print(f\"Resultado de Lesk = {synset}: {synset.definition()}\")\n",
    "print(f\"Pero debería haber sido: {wn.synset('mess.n.01')}: {wn.synset('mess.n.01').definition()}\")"
   ]
  },
  {
   "cell_type": "code",
   "execution_count": 35,
   "metadata": {},
   "outputs": [
    {
     "name": "stdout",
     "output_type": "stream",
     "text": [
      "Resultado de Lesk = Synset('interest.n.04'): a fixed charge for borrowing money; usually a percentage of the amount borrowed\n",
      "Pero debería haber sido: Synset('sake.n.01'): a reason for wanting something done\n"
     ]
    }
   ],
   "source": [
    "synset = lesk(word_tokenize(oracion_3),'interest', 'n')\n",
    "print(f\"Resultado de Lesk = {synset}: {synset.definition()}\")\n",
    "print(f\"Pero debería haber sido: {wn.synset('interest.n.02')}: {wn.synset('interest.n.02').definition()}\")"
   ]
  },
  {
   "cell_type": "code",
   "execution_count": 37,
   "metadata": {},
   "outputs": [
    {
     "name": "stdout",
     "output_type": "stream",
     "text": [
      "Resultado de Lesk = Synset('ice_rink.n.01'): a rink with a floor of ice for ice hockey or ice skating\n",
      "Pero debería haber sido: Synset('ice.n.02'): the frozen part of a body of water\n"
     ]
    }
   ],
   "source": [
    "synset = lesk(word_tokenize(oracion_4),'ice', 'n')\n",
    "print(f\"Resultado de Lesk = {synset}: {synset.definition()}\")\n",
    "print(f\"Pero debería haber sido: {wn.synset('ice.n.02')}: {wn.synset('ice.n.02').definition()}\")"
   ]
  },
  {
   "cell_type": "markdown",
   "metadata": {},
   "source": [
    "#### Un poco más allá"
   ]
  },
  {
   "cell_type": "code",
   "execution_count": 38,
   "metadata": {},
   "outputs": [
    {
     "data": {
      "text/plain": [
       "'dog'"
      ]
     },
     "execution_count": 38,
     "metadata": {},
     "output_type": "execute_result"
    }
   ],
   "source": [
    "from nltk.stem import WordNetLemmatizer\n",
    "wnLemmatizer = WordNetLemmatizer()\n",
    "wnLemmatizer.lemmatize('dogs', 'n')"
   ]
  },
  {
   "cell_type": "code",
   "execution_count": 39,
   "metadata": {},
   "outputs": [
    {
     "data": {
      "text/plain": [
       "'walk'"
      ]
     },
     "execution_count": 39,
     "metadata": {},
     "output_type": "execute_result"
    }
   ],
   "source": [
    "wnLemmatizer.lemmatize('walking','v')"
   ]
  },
  {
   "cell_type": "code",
   "execution_count": 40,
   "metadata": {},
   "outputs": [
    {
     "data": {
      "text/plain": [
       "'dog'"
      ]
     },
     "execution_count": 40,
     "metadata": {},
     "output_type": "execute_result"
    }
   ],
   "source": [
    "wnLemmatizer.lemmatize('dogs')"
   ]
  },
  {
   "cell_type": "markdown",
   "metadata": {},
   "source": [
    "##### Ejercicio: ¿Podrías mejorar el algoritmo de Lesk con un lematizador? Si es así, ¿podrías escribir una función de match, que tome dos cadenas y devuelva las palabras coincidentes entre ellas? Queremos que las coincidencias (matches) sean útiles para un algoritmo como Lesk.¿Quizás también necesites usar un etiquetador POS? Podes usar un etiquetador POS incorporado en WordNet"
   ]
  },
  {
   "cell_type": "code",
   "execution_count": 102,
   "metadata": {},
   "outputs": [],
   "source": [
    "from nltk.corpus import stopwords\n",
    "from nltk import pos_tag\n",
    "import re\n",
    "\n",
    "def get_tag_to_lemmatize(tag):\n",
    "    v_or_n = 'v' if str(tag).startswith('VB') else 'n'\n",
    "    return v_or_n\n",
    "    \n",
    "def get_lemmatized_string(string):\n",
    "    sw = stopwords.words('english')\n",
    "    string_without_sw = [word for word in word_tokenize(string) if re.search(\"\\w\", word) and word not in sw]\n",
    "    return set([wnLemmatizer.lemmatize(word, get_tag_to_lemmatize(tag)) for (word, tag) in pos_tag(string_without_sw)])\n",
    "\n",
    "def match(string, another_string):\n",
    "    lemmatized_string = get_lemmatized_string(string)\n",
    "    another_lemmatized_string = get_lemmatized_string(another_string)\n",
    "    return lemmatized_string.intersection(another_lemmatized_string)"
   ]
  },
  {
   "cell_type": "markdown",
   "metadata": {},
   "source": [
    "Ahora probemos nuestra función match sobre la oracion1 del ejercicio anterior y el resultado que nos habia dado Lesk"
   ]
  },
  {
   "cell_type": "code",
   "execution_count": 103,
   "metadata": {},
   "outputs": [
    {
     "data": {
      "text/plain": [
       "{'money'}"
      ]
     },
     "execution_count": 103,
     "metadata": {},
     "output_type": "execute_result"
    }
   ],
   "source": [
    "match(wn.synset('savings_bank.n.02').definition(), oracion_1)"
   ]
  },
  {
   "cell_type": "markdown",
   "metadata": {},
   "source": [
    "Lo mismo pero con el synset que nos debería haber dado Lesk"
   ]
  },
  {
   "cell_type": "code",
   "execution_count": 104,
   "metadata": {},
   "outputs": [
    {
     "data": {
      "text/plain": [
       "{'deposit', 'money'}"
      ]
     },
     "execution_count": 104,
     "metadata": {},
     "output_type": "execute_result"
    }
   ],
   "source": [
    "match(wn.synset('bank.n.02').definition(), oracion_1)"
   ]
  },
  {
   "cell_type": "markdown",
   "metadata": {},
   "source": [
    "Con este resultado podemos ver que si implementaramos nuestra propia función **_Lesk_** usando **_match_**, teniendo en cuenta que Lesk se queda con el synset que más elementos haya dado la intersección, ahora funcionaría correctamente para la palabra **_bank_** en la oración 1"
   ]
  },
  {
   "cell_type": "markdown",
   "metadata": {},
   "source": [
    "Vamos a hacerlo, implementemos nuestra propia función **_Lesk_** usando **_match_**:"
   ]
  },
  {
   "cell_type": "code",
   "execution_count": 105,
   "metadata": {},
   "outputs": [],
   "source": [
    "def my_lesk(context_sentence, ambiguous_word, pos=None, synsets=None):\n",
    "    if synsets is None:\n",
    "        synsets = wordnet.synsets(ambiguous_word)\n",
    "    if pos:\n",
    "        synsets = [ss for ss in synsets if str(ss.pos()) == pos]\n",
    "    if not synsets:\n",
    "        return None\n",
    "    _, sense = max((len(match(context_sentence, ss.definition())), ss) for ss in synsets)\n",
    "    return sense"
   ]
  },
  {
   "cell_type": "markdown",
   "metadata": {},
   "source": [
    "Ahora que ya tenemos nuestra función **_Lesk_**, la corremos sobre los 4 ejemplos del ejercicio anterior:"
   ]
  },
  {
   "cell_type": "code",
   "execution_count": 110,
   "metadata": {},
   "outputs": [
    {
     "name": "stdout",
     "output_type": "stream",
     "text": [
      "Resultado de nuestra función Lesk para la oracion1:\n",
      "Synset('depository_financial_institution.n.01'): a financial institution that accepts deposits and channels the money into lending activities\n"
     ]
    }
   ],
   "source": [
    "synset = my_lesk(oracion_1, 'bank', 'n')\n",
    "print(f\"Resultado de nuestra función Lesk para la oracion1:\\n{synset}: {synset.definition()}\")"
   ]
  },
  {
   "cell_type": "code",
   "execution_count": 111,
   "metadata": {},
   "outputs": [
    {
     "name": "stdout",
     "output_type": "stream",
     "text": [
      "Resultado de nuestra función Lesk para la oracion2:\n",
      "Synset('mess.n.04'): a meal eaten in a mess hall by service personnel\n"
     ]
    }
   ],
   "source": [
    "synset = my_lesk(oracion_2, 'mess', 'n')\n",
    "print(f\"Resultado de nuestra función Lesk para la oracion2:\\n{synset}: {synset.definition()}\")"
   ]
  },
  {
   "cell_type": "code",
   "execution_count": 112,
   "metadata": {},
   "outputs": [
    {
     "name": "stdout",
     "output_type": "stream",
     "text": [
      "Resultado de nuestra función Lesk para la oracion3:\n",
      "Synset('sake.n.01'): a reason for wanting something done\n"
     ]
    }
   ],
   "source": [
    "synset = my_lesk(oracion_3, 'interest', 'n')\n",
    "print(f\"Resultado de nuestra función Lesk para la oracion3:\\n{synset}: {synset.definition()}\")"
   ]
  },
  {
   "cell_type": "code",
   "execution_count": 113,
   "metadata": {},
   "outputs": [
    {
     "name": "stdout",
     "output_type": "stream",
     "text": [
      "Resultado de nuestra función Lesk para la oracion4:\n",
      "Synset('ice_rink.n.01'): a rink with a floor of ice for ice hockey or ice skating\n"
     ]
    }
   ],
   "source": [
    "synset = my_lesk(oracion_4, 'ice', 'n')\n",
    "print(f\"Resultado de nuestra función Lesk para la oracion4:\\n{synset}: {synset.definition()}\")"
   ]
  },
  {
   "cell_type": "markdown",
   "metadata": {},
   "source": [
    "Resultados:\n",
    "* Con **_Lesk de NLTK_**: Para las 4 oraciones de ejemplo tuvimos resultados incorrectos\n",
    "* Con **_Nuestra función MyLesk_**: En la oraciones 1 y 3 tuvimos resultados correctos mientras que la 2 y la 4 fueron incorrectos"
   ]
  },
  {
   "cell_type": "markdown",
   "metadata": {},
   "source": [
    "Por lo que vemos claramente que aplicarle a lesk un lemmatizador hace que el algoritmo funcione de mejor manera. Sin embargo, que siga fallando para las oraciones 2 y 4 nos da la pauta de que nunca es suficiente, y se podría seguir mejorando, como todo en NLP"
   ]
  }
 ],
 "metadata": {
  "kernelspec": {
   "display_name": "Python [conda env:nlp2020] *",
   "language": "python",
   "name": "conda-env-nlp2020-py"
  },
  "language_info": {
   "codemirror_mode": {
    "name": "ipython",
    "version": 3
   },
   "file_extension": ".py",
   "mimetype": "text/x-python",
   "name": "python",
   "nbconvert_exporter": "python",
   "pygments_lexer": "ipython3",
   "version": "3.7.7"
  }
 },
 "nbformat": 4,
 "nbformat_minor": 4
}
