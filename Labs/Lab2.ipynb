{
 "cells": [
  {
   "cell_type": "markdown",
   "metadata": {},
   "source": [
    "# Lab2: Parte del Discurso (Part of Speech) (POS)"
   ]
  },
  {
   "cell_type": "code",
   "execution_count": 8,
   "metadata": {},
   "outputs": [],
   "source": [
    "import nltk\n",
    "from nltk.book import *"
   ]
  },
  {
   "cell_type": "markdown",
   "metadata": {},
   "source": [
    "#### Part of speech **_tagsets_**"
   ]
  },
  {
   "cell_type": "code",
   "execution_count": null,
   "metadata": {},
   "outputs": [],
   "source": [
    "# Penn Treebank tagset (45 tags)\n",
    "nltk.help.upenn_tagset(\".*\")"
   ]
  },
  {
   "cell_type": "code",
   "execution_count": null,
   "metadata": {},
   "outputs": [],
   "source": [
    "# Sustantivos Penn Treebank: \n",
    "# 4 categorias (NN: comunes singulares, NNP: propios singulares, NNPS: propios plurales, NNS: comunes plurales)\n",
    "nltk.help.upenn_tagset(\"NN*\") "
   ]
  },
  {
   "cell_type": "code",
   "execution_count": null,
   "metadata": {},
   "outputs": [],
   "source": [
    "# Verbos: 6 categorias\n",
    "nltk.help.upenn_tagset(\"VB*\")"
   ]
  },
  {
   "cell_type": "code",
   "execution_count": null,
   "metadata": {},
   "outputs": [],
   "source": [
    "# Sustantivos Brown: 87 tags\n",
    "nltk.help.brown_tagset(\"NN*\")"
   ]
  },
  {
   "cell_type": "markdown",
   "metadata": {},
   "source": [
    "La diferencia de obtener los tags para sustantivos entre _Penn Treebank_ y _Brown_ es que _Penn_ se limita a solamente sustantivos, mientras que _Brown_ tiene por ejemplo el _NN+IN_ que es un sustantivo común singular acompañado de una preposición"
   ]
  },
  {
   "cell_type": "markdown",
   "metadata": {},
   "source": [
    "#### Explorando el tagged corpora"
   ]
  },
  {
   "cell_type": "code",
   "execution_count": null,
   "metadata": {},
   "outputs": [],
   "source": [
    "from nltk.corpus import treebank\n",
    "treebank.fileids()"
   ]
  },
  {
   "cell_type": "code",
   "execution_count": 15,
   "metadata": {},
   "outputs": [
    {
     "data": {
      "text/plain": [
       "[('Pierre', 'NNP'),\n",
       " ('Vinken', 'NNP'),\n",
       " (',', ','),\n",
       " ('61', 'CD'),\n",
       " ('years', 'NNS'),\n",
       " ('old', 'JJ'),\n",
       " (',', ','),\n",
       " ('will', 'MD'),\n",
       " ('join', 'VB'),\n",
       " ('the', 'DT'),\n",
       " ('board', 'NN'),\n",
       " ('as', 'IN'),\n",
       " ('a', 'DT'),\n",
       " ('nonexecutive', 'JJ'),\n",
       " ('director', 'NN'),\n",
       " ('Nov.', 'NNP'),\n",
       " ('29', 'CD'),\n",
       " ('.', '.'),\n",
       " ('Mr.', 'NNP'),\n",
       " ('Vinken', 'NNP'),\n",
       " ('is', 'VBZ'),\n",
       " ('chairman', 'NN'),\n",
       " ('of', 'IN'),\n",
       " ('Elsevier', 'NNP'),\n",
       " ('N.V.', 'NNP'),\n",
       " (',', ','),\n",
       " ('the', 'DT'),\n",
       " ('Dutch', 'NNP'),\n",
       " ('publishing', 'VBG'),\n",
       " ('group', 'NN'),\n",
       " ('.', '.')]"
      ]
     },
     "execution_count": 15,
     "metadata": {},
     "output_type": "execute_result"
    }
   ],
   "source": [
    "treebank.tagged_words(\"wsj_0001.mrg\")[0:]"
   ]
  },
  {
   "cell_type": "code",
   "execution_count": 17,
   "metadata": {},
   "outputs": [
    {
     "name": "stdout",
     "output_type": "stream",
     "text": [
      "('A', 'DT')\n",
      "('form', 'NN')\n",
      "('of', 'IN')\n",
      "('asbestos', 'NN')\n",
      "('once', 'RB')\n",
      "('used', 'VBN')\n",
      "('*', '-NONE-')\n",
      "('*', '-NONE-')\n",
      "('to', 'TO')\n",
      "('make', 'VB')\n",
      "('Kent', 'NNP')\n",
      "('cigarette', 'NN')\n",
      "('filters', 'NNS')\n",
      "('has', 'VBZ')\n",
      "('caused', 'VBN')\n",
      "('a', 'DT')\n",
      "('high', 'JJ')\n",
      "('percentage', 'NN')\n",
      "('of', 'IN')\n",
      "('cancer', 'NN')\n",
      "('deaths', 'NNS')\n",
      "('among', 'IN')\n",
      "('a', 'DT')\n",
      "('group', 'NN')\n",
      "('of', 'IN')\n",
      "('workers', 'NNS')\n",
      "('exposed', 'VBN')\n",
      "('*', '-NONE-')\n",
      "('to', 'TO')\n",
      "('it', 'PRP')\n",
      "('more', 'RBR')\n",
      "('than', 'IN')\n",
      "('30', 'CD')\n",
      "('years', 'NNS')\n",
      "('ago', 'IN')\n",
      "(',', ',')\n",
      "('researchers', 'NNS')\n",
      "('reported', 'VBD')\n",
      "('0', '-NONE-')\n",
      "('*T*-1', '-NONE-')\n",
      "('.', '.')\n",
      "('The', 'DT')\n",
      "('asbestos', 'NN')\n",
      "('fiber', 'NN')\n",
      "(',', ',')\n",
      "('crocidolite', 'NN')\n",
      "(',', ',')\n",
      "('is', 'VBZ')\n",
      "('unusually', 'RB')\n",
      "('resilient', 'JJ')\n",
      "('once', 'IN')\n",
      "('it', 'PRP')\n",
      "('enters', 'VBZ')\n",
      "('the', 'DT')\n",
      "('lungs', 'NNS')\n",
      "(',', ',')\n",
      "('with', 'IN')\n",
      "('even', 'RB')\n",
      "('brief', 'JJ')\n",
      "('exposures', 'NNS')\n",
      "('to', 'TO')\n",
      "('it', 'PRP')\n",
      "('causing', 'VBG')\n",
      "('symptoms', 'NNS')\n",
      "('that', 'WDT')\n",
      "('*T*-1', '-NONE-')\n",
      "('show', 'VBP')\n",
      "('up', 'RP')\n",
      "('decades', 'NNS')\n",
      "('later', 'JJ')\n",
      "(',', ',')\n",
      "('researchers', 'NNS')\n",
      "('said', 'VBD')\n",
      "('0', '-NONE-')\n",
      "('*T*-2', '-NONE-')\n",
      "('.', '.')\n",
      "('Lorillard', 'NNP')\n",
      "('Inc.', 'NNP')\n",
      "(',', ',')\n",
      "('the', 'DT')\n",
      "('unit', 'NN')\n",
      "('of', 'IN')\n",
      "('New', 'JJ')\n",
      "('York-based', 'JJ')\n",
      "('Loews', 'NNP')\n",
      "('Corp.', 'NNP')\n",
      "('that', 'WDT')\n",
      "('*T*-2', '-NONE-')\n",
      "('makes', 'VBZ')\n",
      "('Kent', 'NNP')\n",
      "('cigarettes', 'NNS')\n",
      "(',', ',')\n",
      "('stopped', 'VBD')\n",
      "('using', 'VBG')\n",
      "('crocidolite', 'NN')\n",
      "('in', 'IN')\n",
      "('its', 'PRP$')\n",
      "('Micronite', 'NN')\n",
      "('cigarette', 'NN')\n",
      "('filters', 'NNS')\n"
     ]
    }
   ],
   "source": [
    "x100 = treebank.tagged_words(\"wsj_0003.mrg\")[0:100]\n",
    "for p in x100:\n",
    "    print(p)"
   ]
  },
  {
   "cell_type": "markdown",
   "metadata": {},
   "source": [
    "#### Contando desde un corpora"
   ]
  },
  {
   "cell_type": "code",
   "execution_count": 18,
   "metadata": {},
   "outputs": [],
   "source": [
    "race1 = nltk.tag.str2tuple('race/NN')\n",
    "race2 = nltk.tag.str2tuple('race/VB')"
   ]
  },
  {
   "cell_type": "code",
   "execution_count": 20,
   "metadata": {},
   "outputs": [
    {
     "name": "stdout",
     "output_type": "stream",
     "text": [
      "Tamaño de Brown corpus: 1161192\n"
     ]
    }
   ],
   "source": [
    "from nltk.corpus import brown\n",
    "print(f\"Tamaño de Brown corpus: {len(brown.tagged_words())}\")"
   ]
  },
  {
   "cell_type": "code",
   "execution_count": 25,
   "metadata": {},
   "outputs": [
    {
     "name": "stdout",
     "output_type": "stream",
     "text": [
      "En el Brown corpus, el uso más frecuente de la palabra \"race\" es como Sustantivo\n"
     ]
    }
   ],
   "source": [
    "sustantivo_o_verbo = \"Sustantivo\" if brown.tagged_words().count(race1) > brown.tagged_words().count(race2) else \"Verbo\"\n",
    "print(f\"En el Brown corpus, el uso más frecuente de la palabra \\\"race\\\" es como {sustantivo_o_verbo}\")"
   ]
  },
  {
   "cell_type": "markdown",
   "metadata": {},
   "source": [
    "#### Aplicando POS tagging a una nueva oración"
   ]
  },
  {
   "cell_type": "markdown",
   "metadata": {},
   "source": [
    "_UnigramTagger_ taggea según el tag más frecuente a una palabra sobre los datos de entrenamiento. Por lo que como antes _race_ era sustantivo, ahora lo taggea como sustantivo en la oración: \"The Secretariat is expected to race tomorrow.\""
   ]
  },
  {
   "cell_type": "code",
   "execution_count": 30,
   "metadata": {},
   "outputs": [
    {
     "data": {
      "text/plain": [
       "[('The', 'AT'),\n",
       " ('Secretariat', 'NN-TL'),\n",
       " ('is', 'BEZ'),\n",
       " ('expected', 'VBN'),\n",
       " ('to', 'TO'),\n",
       " ('race', 'NN'),\n",
       " ('tomorrow', 'NR'),\n",
       " ('.', '.')]"
      ]
     },
     "execution_count": 30,
     "metadata": {},
     "output_type": "execute_result"
    }
   ],
   "source": [
    "unigram_tagger = nltk.tag.UnigramTagger(brown.tagged_sents(categories='news')[:5000])\n",
    "from nltk import word_tokenize\n",
    "S = \"The Secretariat is expected to race tomorrow.\"\n",
    "S_tok = word_tokenize(S)\n",
    "unigram_tagger.tag(S_tok)"
   ]
  },
  {
   "cell_type": "markdown",
   "metadata": {},
   "source": [
    "_HMMTagger_ taggea tomando en cuenta el contexto. Por lo que taggea a _race_ como verbo en la oración: \"The Secretariat is expected to race tomorrow.\""
   ]
  },
  {
   "cell_type": "code",
   "execution_count": 29,
   "metadata": {},
   "outputs": [
    {
     "data": {
      "text/plain": [
       "[('The', 'AT'),\n",
       " ('Secretariat', 'NN-TL'),\n",
       " ('is', 'BEZ'),\n",
       " ('expected', 'VBN'),\n",
       " ('to', 'TO'),\n",
       " ('race', 'VB'),\n",
       " ('tomorrow', 'NR'),\n",
       " ('.', '.')]"
      ]
     },
     "execution_count": 29,
     "metadata": {},
     "output_type": "execute_result"
    }
   ],
   "source": [
    "hmm_tagger = nltk.hmm.HiddenMarkovModelTrainer().train_supervised(brown.tagged_sents(categories='news')[:5000])\n",
    "hmm_tagger.tag(S_tok)"
   ]
  },
  {
   "cell_type": "markdown",
   "metadata": {},
   "source": [
    "Otro ejemplo, esta vez con la oración \"I have the answer\":"
   ]
  },
  {
   "cell_type": "code",
   "execution_count": 37,
   "metadata": {},
   "outputs": [
    {
     "data": {
      "text/plain": [
       "[('I', 'PPSS'), ('have', 'HV'), ('the', 'AT'), ('answer', 'VB')]"
      ]
     },
     "execution_count": 37,
     "metadata": {},
     "output_type": "execute_result"
    }
   ],
   "source": [
    "unigram_tagger.tag(word_tokenize(\"I have the answer\"))"
   ]
  },
  {
   "cell_type": "code",
   "execution_count": 38,
   "metadata": {},
   "outputs": [
    {
     "data": {
      "text/plain": [
       "[('I', 'PPSS'), ('have', 'HV'), ('the', 'AT'), ('answer', 'NN')]"
      ]
     },
     "execution_count": 38,
     "metadata": {},
     "output_type": "execute_result"
    }
   ],
   "source": [
    "hmm_tagger.tag(word_tokenize(\"I have the answer\"))"
   ]
  },
  {
   "cell_type": "markdown",
   "metadata": {},
   "source": [
    "#### Ejercicio:"
   ]
  },
  {
   "cell_type": "markdown",
   "metadata": {},
   "source": [
    "Taggear a mano la oración \"Juvenile Court to Try Shooting Defendant\" para ver si puedo remover la ambigüedad, después taggearlo con _HMMTagger_"
   ]
  },
  {
   "cell_type": "markdown",
   "metadata": {},
   "source": [
    "Yo la taggearía como [('Juvenile', 'ADJ'), ('Court', 'NN'), ('to', 'TO'), ('Try', 'VB'), ('Shooting', 'VB'), ('Defendant', 'NN')]"
   ]
  },
  {
   "cell_type": "code",
   "execution_count": 40,
   "metadata": {},
   "outputs": [
    {
     "data": {
      "text/plain": [
       "[('Juvenile', 'JJ-TL'),\n",
       " ('Court', 'NN-TL'),\n",
       " ('to', 'IN'),\n",
       " ('Try', 'AT'),\n",
       " ('Shooting', 'AT'),\n",
       " ('Defendant', 'AT')]"
      ]
     },
     "execution_count": 40,
     "metadata": {},
     "output_type": "execute_result"
    }
   ],
   "source": [
    "hmm_tagger.tag(word_tokenize(\"Juvenile Court to Try Shooting Defendant\"))"
   ]
  }
 ],
 "metadata": {
  "kernelspec": {
   "display_name": "Python [conda env:nlp2020] *",
   "language": "python",
   "name": "conda-env-nlp2020-py"
  },
  "language_info": {
   "codemirror_mode": {
    "name": "ipython",
    "version": 3
   },
   "file_extension": ".py",
   "mimetype": "text/x-python",
   "name": "python",
   "nbconvert_exporter": "python",
   "pygments_lexer": "ipython3",
   "version": "3.7.7"
  }
 },
 "nbformat": 4,
 "nbformat_minor": 4
}
